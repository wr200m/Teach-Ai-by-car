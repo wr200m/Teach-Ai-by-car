{
 "cells": [
  {
   "cell_type": "markdown",
   "metadata": {},
   "source": [
    "# Use GPIO library to control an output device: LED\n",
    "In this exercise, we try to use GPIO library to control a simple output device, an LED.\n",
    "\n",
    "## Turn off bluetooth_service\n",
    "Before we start, ensure you turn off bluetooth_control service on the RPi car. The service is there for your Android app to communicate actions to remote control the car. We do not need that now. Leaving it on would interfere with the GPIO exercises here. Open a terminal from Jupyter and type the command below after the dollar sign.\n",
    "```bash\n",
    "$ sudo systemctl stop bluetooth_control\n",
    "```\n",
    "\n",
    "## Code cells\n",
    "You will find plenty of code cells that contain Python code to execute on the RPi car. A Jupyter server runs on the RPi car and receives the code from these cells in browser for the car to execute it locally on the RPi.\n",
    "\n",
    "Follow each of the code cells below, some cells contain complete code you can run, while others contain incomplete code. You can always modify or add to the code in order to experiment.\n",
    "\n",
    "Simply press \"shift enter\" together to execute the code.\n",
    "\n",
    "## Comments\n",
    "Python uses \\# to provide comments that can illustrate what a programmer intends the code to do. You should read comments to help you understand the code and write comments to help readers and yourself make sense of your own code."
   ]
  },
  {
   "cell_type": "markdown",
   "metadata": {},
   "source": [
    "# Exercises\n",
    "## Turn on red LED\n",
    "Yahboom's car kit has a LED light component, in which three LEDs are included, Red, Blue and Green. \n",
    "\n",
    "Each LED with a serially-connected resistance requires 3.3V to power on. In the car kit, the red LED is connected to pin 22 (in broadcom pin numbering, see slides) to receive the 3.3V voltage and the ground. \n",
    "\n",
    "The code below does the following:\n",
    "\n",
    "* set pin numbering mode to broadcom mode, and disable warnings\n",
    "* set up pin 22 for output mode (so we can output 3.3V high, or 0V low to this pin)\n",
    "* supply 3.3V high to the output to light up LED\n",
    "* put program to sleep for 2 seconds while LED is lit\n",
    "* reset (cleanup) all pins that were used in the program\n",
    "\n",
    "Feel free to change the parameter in time.sleep() for the light to stay on for longer or shorter."
   ]
  },
  {
   "cell_type": "code",
   "execution_count": 1,
   "metadata": {},
   "outputs": [
    {
     "name": "stdout",
     "output_type": "stream",
     "text": [
      "Supply power level HIGH to LED\n"
     ]
    }
   ],
   "source": [
    "# Import RPi.GPIO library for GPIO functions\n",
    "import RPi.GPIO as GPIO\n",
    "# Import time library to use the sleep function\n",
    "import time\n",
    "\n",
    "# Use Broadcom pin numbers to reference pins\n",
    "GPIO.setmode(GPIO.BCM)\n",
    "# Disable warnings\n",
    "GPIO.setwarnings(False)\n",
    "\n",
    "# The LED component has 3 colored LEDs inside.\n",
    "# Broadcom Pin 22 is where the Car Kit connects the power supply to\n",
    "# the red LED to the Raspberry Pi\n",
    "# Use a variable to define the pin for red LED for easy readability\n",
    "# Instead of saying using pin 22, we will say PIN_LED_RED later\n",
    "PIN_LED_RED = 22\n",
    "# Set up this pin for RPi to output power level high or low to red LED\n",
    "# its initial power level is set to low.\n",
    "GPIO.setup(PIN_LED_RED, GPIO.OUT, initial=GPIO.LOW)\n",
    "\n",
    "# Supply power HIGH to red LED\n",
    "print('Supply power level HIGH to LED')\n",
    "GPIO.output(PIN_LED_RED, GPIO.HIGH)\n",
    "\n",
    "# Sleep for a few seconds before program ends\n",
    "# So you will see the light on for a bit.\n",
    "# The parameter measured in seconds, \n",
    "# 0.5 = half second\n",
    "# 0.001 = 1 millisecond\n",
    "time.sleep(2)\n",
    "\n",
    "# Before program ends, it's always a good practice to do a cleanup\n",
    "# on all the GPIO pins you have supplied power to in the program\n",
    "# In this program, this cleanup simply resets the LED power supply\n",
    "GPIO.cleanup()\n"
   ]
  },
  {
   "cell_type": "markdown",
   "metadata": {},
   "source": [
    "## Blue and Green LED\n",
    "Now it's your turn to try. In the cell below, we have defined most of code. It's up to you to turn on the Blue and/or the Green LEDs for a few seconds. Look for parts with \\# TODO  and fill in the code there.\n",
    "\n",
    "In the car kit, the blue LED is connected to pin 24, and the green to 27 (both in broadcom pin numbering).\n",
    "\n",
    "Try to complete the TODO below. \n",
    "\n",
    "If you want it to emit purple light, what would you do?"
   ]
  },
  {
   "cell_type": "code",
   "execution_count": 2,
   "metadata": {},
   "outputs": [],
   "source": [
    "import RPi.GPIO as GPIO\n",
    "import time\n",
    "\n",
    "GPIO.setmode(GPIO.BCM)\n",
    "GPIO.setwarnings(False)\n",
    "\n",
    "# The LED component has 3 colored LEDs inside.\n",
    "# These are the broadcom pin connected to supply power for the R,G,B LEDs\n",
    "PIN_LED_RED   = 22\n",
    "PIN_LED_GREEN = 27\n",
    "PIN_LED_BLUE  = 24\n",
    "\n",
    "\n",
    "# Set up pins for RPi to output power level high or low to LEDs\n",
    "GPIO.setup(PIN_LED_RED, GPIO.OUT, initial=GPIO.LOW)\n",
    "\n",
    "# TODO - Do the same for Green and Blue\n",
    "\n",
    "\n",
    "# Supply power HIGH to LEDs\n",
    "GPIO.output(PIN_LED_RED, GPIO.HIGH)\n",
    "\n",
    "# TODO - Do the same for Green and Blue\n",
    "\n",
    "\n",
    "time.sleep(2)\n",
    "GPIO.cleanup()\n"
   ]
  },
  {
   "cell_type": "markdown",
   "metadata": {},
   "source": [
    "## Turn off LED\n",
    "Turning off is as easy as output a 0 or low power level to the pin. In the cell below, you have red LED on for 2 seconds and then it's turned off. \n",
    "\n",
    "Can you implement the following sequence?\n",
    "\n",
    "1. Red LED on for 2 seconds (already implemented for you)\n",
    "2. Red LED off\n",
    "3. Green LED on for 2 seconds\n",
    "4. Green LED off\n",
    "5. Blue LED on for 2 seconds\n",
    "6. Blue LED off\n",
    "\n",
    "If anything is wrong, you should see error output below the cell. Do read that error message and debug accordingly.\n"
   ]
  },
  {
   "cell_type": "code",
   "execution_count": 3,
   "metadata": {},
   "outputs": [],
   "source": [
    "import RPi.GPIO as GPIO\n",
    "import time\n",
    "\n",
    "GPIO.setmode(GPIO.BCM)\n",
    "GPIO.setwarnings(False)\n",
    "\n",
    "PIN_LED_RED   = 22\n",
    "PIN_LED_GREEN = 27\n",
    "PIN_LED_BLUE  = 24\n",
    "\n",
    "\n",
    "GPIO.setup(PIN_LED_RED, GPIO.OUT, initial=GPIO.LOW)\n",
    "\n",
    "GPIO.output(PIN_LED_RED, GPIO.HIGH)\n",
    "time.sleep(2)\n",
    "# Use GPIO.LOW to set the pin to 0 voltage output, this turns off the LED\n",
    "GPIO.output(PIN_LED_RED, GPIO.LOW)\n",
    "\n",
    "# TODO repeat the sequence for green and blue LED's.\n",
    "\n",
    "\n",
    "GPIO.cleanup()"
   ]
  },
  {
   "cell_type": "markdown",
   "metadata": {},
   "source": [
    "## How to make LED blink - Part 1\n",
    "\n",
    "Holiday lights always become much more interesting if we get them to blink. There are different ways of making LED blink. Part 1 here shows you how to use basic looping in Python to do that.\n",
    "\n",
    "Our eyes blinking is simply an on, off, on, off... sequence for our eyes. Same goes for LED lights. You have seen how to turn on and off an LED, now we just need to put everything in a loop.\n",
    "\n",
    "We can choose to use a forever loop or have a counter to repeat this on/off cycle as many times as we want. To keep simple, we will use forever loop - while True. If you want to stop its execution, click the square stop botton right below the Jupyter menu - you would see a KeyboardInterrupt exception printed below your cell. It's fine, nothing is wrong there.\n",
    "\n",
    "Inside the while loop, we use sleep to control how long on is and how long off is. You can make adjustment to get the effects that you would like."
   ]
  },
  {
   "cell_type": "code",
   "execution_count": 5,
   "metadata": {},
   "outputs": [],
   "source": [
    "import RPi.GPIO as GPIO\n",
    "import time\n",
    "\n",
    "GPIO.setmode(GPIO.BCM)\n",
    "GPIO.setwarnings(False)\n",
    "\n",
    "PIN_LED_RED   = 22\n",
    "\n",
    "GPIO.setup(PIN_LED_RED, GPIO.OUT, initial=GPIO.LOW)\n",
    "\n",
    "on_time = 0.5 # in seconds\n",
    "off_time = 1  # in seconds\n",
    "while True:\n",
    "    GPIO.output(PIN_LED_RED, GPIO.HIGH)\n",
    "    time.sleep(on_time)\n",
    "    GPIO.output(PIN_LED_RED, GPIO.LOW)\n",
    "    time.sleep(off_time)\n",
    "\n",
    "GPIO.cleanup()"
   ]
  },
  {
   "cell_type": "markdown",
   "metadata": {},
   "source": [
    "### Challenge\n",
    "Based on code above, can you make an SOS signal? That is . . . - - - . . . and repeat SOS 5 times. The code above is copied below, update the code to make SOS happen."
   ]
  },
  {
   "cell_type": "code",
   "execution_count": 7,
   "metadata": {},
   "outputs": [],
   "source": [
    "import RPi.GPIO as GPIO\n",
    "import time\n",
    "\n",
    "GPIO.setmode(GPIO.BCM)\n",
    "GPIO.setwarnings(False)\n",
    "\n",
    "PIN_LED_RED   = 22\n",
    "\n",
    "GPIO.setup(PIN_LED_RED, GPIO.OUT, initial=GPIO.LOW)\n",
    "\n",
    "on_time = 0.5 # in seconds\n",
    "off_time = 1  # in seconds\n",
    "while True:\n",
    "    GPIO.output(PIN_LED_RED, GPIO.HIGH)\n",
    "    time.sleep(on_time)\n",
    "    GPIO.output(PIN_LED_RED, GPIO.LOW)\n",
    "    time.sleep(off_time)\n",
    "\n",
    "GPIO.cleanup()"
   ]
  },
  {
   "cell_type": "markdown",
   "metadata": {},
   "source": [
    "## How to make LED blink - Part 2 with PWM\n",
    "PWM stands for Pulse Width Modulation and we can use it to control the brightness of LEDs. But before we do that, let's use it first to make LED blink.\n",
    "\n",
    "In the code below, we define a function demo_pwm_for_led() so that you can re-use the demo by feeding it with a different LED pin and pwm parameters (frequency and duty_cycle).\n",
    "\n",
    "We use input() function to pause the program while the LED blinking continues. This allows user to press enter key to resume the program and stop the blinking.\n",
    "\n",
    "Try to modify pin, frequency and duty_cycle in the example below and see the effect.\n",
    "* Try to use a shorter duty cycle at 1 or 10\n",
    "* Try to use a longer duty cycle at 90 or 100\n",
    "* Try to use a faster frequency at 1 or 2 or 5"
   ]
  },
  {
   "cell_type": "code",
   "execution_count": 8,
   "metadata": {},
   "outputs": [
    {
     "name": "stdout",
     "output_type": "stream",
     "text": [
      "Press return to stop\n"
     ]
    }
   ],
   "source": [
    "def demo_pwm_for_led(pin, frequency, duty_cycle):\n",
    "    \"\"\"\n",
    "    Demonstrate \n",
    "        * how to set up a LED pin for PWM\n",
    "        * how to start the PWM pulsing\n",
    "        * how to stop the PWM pulsing\n",
    "        \n",
    "    Inputs\n",
    "    ----------\n",
    "        * pin - LED pin to set up (in broadcom numbering)\n",
    "        * frequency - Hertz, i.e. how many cycle per second\n",
    "                    - e.g., 0.5 Hz = 1 cycle per 2 seconds\n",
    "                            60 Hz  = 60 cycles per second\n",
    "        * duty_cycle - duty cycle of PWM, percentage of pulsing time in a cycle\n",
    "                     -   1 =  1% of each cycle time has high voltage\n",
    "                     -  50 = 50% of each cycle time has high voltage\n",
    "                     - 100 =100% of each cycle time has high voltage\n",
    "    \"\"\"\n",
    "    import RPi.GPIO as GPIO\n",
    "    GPIO.setmode(GPIO.BCM)\n",
    "    GPIO.setwarnings(False)\n",
    "    \n",
    "    # For PWM, the LED pin still needs to be set up as GPIO.OUT\n",
    "    GPIO.setup(pin, GPIO.OUT)\n",
    "    \n",
    "    # Set up PWM for the LED pin at specified frequency\n",
    "    p = GPIO.PWM(pin, frequency)\n",
    "    \n",
    "    # Start up PWM pulsing at specified duty_cycle\n",
    "    p.start(duty_cycle)\n",
    "    \n",
    "    # While PWM will continue to pulse for this LED pin,\n",
    "    # this program will pause until you press enter key.\n",
    "    input('Press return to stop')\n",
    "    \n",
    "    # Once you press enter key, program will resume here and \n",
    "    # it will call the following to stop the PWM pulsing.\n",
    "    p.stop()\n",
    "    \n",
    "    # As always, we use cleanup to reset all the GPIO pins used in this program\n",
    "    GPIO.cleanup()\n",
    "\n",
    "# Example\n",
    "PIN_LED_RED   = 22\n",
    "PIN_LED_GREEN = 27\n",
    "PIN_LED_BLUE  = 24\n",
    "\n",
    "# Make Red LED blink every once every 2 seconds, each blink lasts 1 second\n",
    "frequency = 0.5 # in Hertz - cycle = 1/Hertz = 2 seconds\n",
    "duty_cycle = 50 # percentage\n",
    "pin = PIN_LED_RED\n",
    "demo_pwm_for_led(pin, frequency, duty_cycle)"
   ]
  },
  {
   "cell_type": "markdown",
   "metadata": {},
   "source": [
    "## Control the brightness of LED\n",
    "In the slides, we mention that If frequency is high (>60Hz), the blinking cannot be seen with human eye, duty cycle effectively controls the LED brightness by controlling at what % the LED is powered on.\n",
    "\n",
    "Use the demo_pwm_for_led() function defined above with a much higher frequency (>=60Hz) and try duty_cycle from 0 to 100 and see it for yourself."
   ]
  },
  {
   "cell_type": "code",
   "execution_count": 9,
   "metadata": {},
   "outputs": [
    {
     "name": "stdout",
     "output_type": "stream",
     "text": [
      "Press return to stop\n"
     ]
    }
   ],
   "source": [
    "PIN_LED_RED   = 22\n",
    "PIN_LED_GREEN = 27\n",
    "PIN_LED_BLUE  = 24\n",
    "\n",
    "frequency = 60  # try higher frequency (>=60)\n",
    "duty_cycle = 1  # try different duty_cycle [0-100]\n",
    "pin = PIN_LED_RED\n",
    "demo_pwm_for_led(pin, frequency, duty_cycle)"
   ]
  },
  {
   "cell_type": "markdown",
   "metadata": {},
   "source": [
    "### ChangeDutyCycle()\n",
    "Duty cycle of a PWM pin can be changed on the fly, which in turn controls the LED brightness on the fly.\n",
    "\n",
    "This demo_fade_in_fade_out_led() shows you how to fade in and out an LED using PWM with its duty cycle changed constantly to adjust brightness."
   ]
  },
  {
   "cell_type": "code",
   "execution_count": 10,
   "metadata": {},
   "outputs": [],
   "source": [
    "def demo_fade_in_fade_out_led(pin, frequency=60, fade_time=1):\n",
    "    \"\"\"\n",
    "    Demonstrate \n",
    "        * how to set up a LED to fade in and fade out\n",
    "        \n",
    "    Inputs\n",
    "    ----------\n",
    "        * pin - LED pin to set up (in broadcom numbering)\n",
    "        * frequency - should be at least 60 Hz in order to be able to control LED brightness\n",
    "                      default is 60 Hz.\n",
    "        * fade_time - measured in seconds, controls the speed of fade-in and fade-out.\n",
    "    \"\"\"\n",
    "    import time\n",
    "    import RPi.GPIO as GPIO\n",
    "    GPIO.setmode(GPIO.BCM)\n",
    "    GPIO.setup(pin, GPIO.OUT)\n",
    "\n",
    "    # Set up PWM at a frequency >= 60 in order to control LED brightness\n",
    "    p = GPIO.PWM(pin, frequency)\n",
    "    \n",
    "    # Start brightness at dark with duty cycle = 0\n",
    "    p.start(0)\n",
    "    # See comment below regarding try-except and KeyboardInterrupt\n",
    "    try:\n",
    "        sleep_time = fade_time / 100.0 # divide by 100 because each fade changes duty cycle 100 times\n",
    "        while True:\n",
    "            # fade in, from totally-dark 0, brighter and brighter to nearly-fully-lit 99\n",
    "            for dc in range(0, 100):\n",
    "                p.ChangeDutyCycle(dc)\n",
    "                time.sleep(sleep_time)\n",
    "            # fade out, from fully-lit 100, dimmer and dimmer to nearly-totally-dark 1\n",
    "            for dc in range(100, 0, -1):\n",
    "                p.ChangeDutyCycle(dc)\n",
    "                time.sleep(sleep_time)\n",
    "                \n",
    "    # We use try-except to catch KeyboardInterrupt exception \n",
    "    # so when we press square stop no error will be thrown\n",
    "    except KeyboardInterrupt:\n",
    "        pass\n",
    "    \n",
    "    # Stop PWM and clean up pins used\n",
    "    p.stop()\n",
    "    GPIO.cleanup()\n",
    "    \n",
    "\n",
    "PIN_LED_RED   = 22\n",
    "PIN_LED_GREEN = 27\n",
    "PIN_LED_BLUE  = 24\n",
    "demo_fade_in_fade_out_led(PIN_LED_RED, fade_time=1)"
   ]
  }
 ],
 "metadata": {
  "kernelspec": {
   "display_name": "Python 3",
   "language": "python",
   "name": "python3"
  },
  "language_info": {
   "codemirror_mode": {
    "name": "ipython",
    "version": 3
   },
   "file_extension": ".py",
   "mimetype": "text/x-python",
   "name": "python",
   "nbconvert_exporter": "python",
   "pygments_lexer": "ipython3",
   "version": "3.5.3"
  }
 },
 "nbformat": 4,
 "nbformat_minor": 2
}
