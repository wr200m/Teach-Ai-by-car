{
 "cells": [
  {
   "cell_type": "markdown",
   "metadata": {},
   "source": [
    "# Use GPIO library to read input: Infrared Obstacle Sensors\n",
    "In this exercise, we try to use GPIO library to read the input data presented by infrared obstacle sensors.\n",
    "\n",
    "## Turn off bluetooth_service\n",
    "Before we start, ensure you turn off bluetooth_control service on the RPi car. The service is there for your Android app to communicate actions to remote control the car. We do not need that now. Leaving it on would interfere with the GPIO exercises here. Open a terminal from Jupyter and type the command below after the dollar sign.\n",
    "```bash\n",
    "$ sudo systemctl stop bluetooth_control\n",
    "```\n",
    "\n",
    "## Code cells\n",
    "You will find plenty of code cells that contain Python code to execute on the RPi car. A Jupyter server runs on the RPi car and receives the code from these cells in browser for the car to execute it locally on the RPi.\n",
    "\n",
    "Follow each of the code cells below, some cells contain complete code you can run, while others contain incomplete code. You can always modify or add to the code in order to experiment.\n",
    "\n",
    "Simply press \"shift enter\" together to execute the code.\n",
    "\n",
    "## Comments\n",
    "Python uses \\# to provide comments that can illustrate what a programmer intends the code to do. You should read comments to help you understand the code and write comments to help readers and yourself make sense of your own code."
   ]
  },
  {
   "cell_type": "markdown",
   "metadata": {},
   "source": [
    "# Exercises\n",
    "## Caution\n",
    "<font color=red>For any coding exercises that you perform here, be sure that your RPi car sit on a safe surface so it would not fall off and break into pieces.</font>\n",
    "\n",
    "## Set up pins for input and read the input voltage\n",
    "Using an GPIO pin for input is very similar to using one for output. The steps are\n",
    "\n",
    "* Set up the pin for input\n",
    "* Read the pin to get data\n",
    "  * GPIO.HIGH - obstacle absent - GPIO.HIGH === True === 1\n",
    "  * GPIO.LOW - obstacle present   - GPIO.LOW === False === 0\n",
    "\n",
    "<font color=green>Pay attention that even though the LED light is on when IR reflection is received, indicating obstacle present, the data pin actually reads GPIO.LOW. The data pin has opposite readout to the LED light.</font>\n",
    "\n",
    "The following code runs the infrared data pin readout in a loop. Take note of a few programming aids:\n",
    "* a try-except-finally is used to handle cleanup and error handling\n",
    "* The print() statement uses end='\\r' and flush=True to ensure the print-out writes on on the same line instead of a new line\n"
   ]
  },
  {
   "cell_type": "code",
   "execution_count": 1,
   "metadata": {},
   "outputs": [
    {
     "name": "stdout",
     "output_type": "stream",
     "text": [
      "Is left clear = Yes. Is right clear = Yes  \n",
      "Test stopped\n"
     ]
    }
   ],
   "source": [
    "import RPi.GPIO as GPIO\n",
    "import time\n",
    "\n",
    "GPIO.setmode(GPIO.BCM)\n",
    "GPIO.setwarnings(False)\n",
    "\n",
    "# Yahboom's car kit pin setup for the two infrared obstacle sensors:\n",
    "PIN_OBSTACLE_LEFT_SENSOR = 12\n",
    "PIN_OBSTACLE_RIGHT_SENSOR = 17\n",
    "\n",
    "# We will now use try-except-finally construct to wrap around all GPIO operations\n",
    "# to ensure proper cleanup and error handling\n",
    "try:\n",
    "    # set up the pins as GPIO.IN for input purpose\n",
    "    GPIO.setup(PIN_OBSTACLE_LEFT_SENSOR, GPIO.IN)\n",
    "    GPIO.setup(PIN_OBSTACLE_RIGHT_SENSOR, GPIO.IN)\n",
    "\n",
    "    while True:\n",
    "\n",
    "        # Reading the GPIO pin as the input\n",
    "        # GPIO.input would return \n",
    "        # either GPIO.HIGH for obstacle absent \n",
    "        # or GPIO.LOW for obstacle present\n",
    "        is_left_clear = 'Yes' if GPIO.input(PIN_OBSTACLE_LEFT_SENSOR) else 'No'\n",
    "        is_right_clear = 'Yes' if GPIO.input(PIN_OBSTACLE_RIGHT_SENSOR) else 'No'\n",
    "\n",
    "        # Use end = '\\r' and flush = True to print on the same line rather than new line\n",
    "        print(\"Is left clear = {left}. Is right clear = {right}  \". \\\n",
    "              format(left=is_left_clear, right=is_right_clear),  end='\\r', flush=True)\n",
    "        \n",
    "        time.sleep(0.25)\n",
    "except KeyboardInterrupt:\n",
    "    pass # do nothing after capturing user's break or ctrl-C action\n",
    "finally:\n",
    "    GPIO.cleanup()\n",
    "    \n",
    "# End of test\n",
    "print(\"\\nTest stopped\")"
   ]
  },
  {
   "cell_type": "markdown",
   "metadata": {},
   "source": [
    "## Combine input and output\n",
    "After input data is read from a sensor, the data is processed and some actions are then performed. In the code above, the action is to print out the state of obstacle detection. In robotics, performing actions is typically about controlling an output device. As we have learned how to control LED and DC motors, we try to put them together now.\n",
    "\n",
    "### Change LED color based on the IR input\n",
    "The code above has been copied into the cell below. Modify the code such that \n",
    "* when no obstacle is detected, the green LED lights up, and \n",
    "* when any obstacle (in either direction) is detected, the red LED lights.\n",
    "\n",
    "Feel free to make the behavior even fancier. \n",
    "\n",
    "<font color=purple>Take note that if another code cell is still running (in an infinite loop for example), you need to interrupt that execution before you can make the code run in this cell.</font>"
   ]
  },
  {
   "cell_type": "code",
   "execution_count": 2,
   "metadata": {},
   "outputs": [
    {
     "name": "stdout",
     "output_type": "stream",
     "text": [
      "Test ongoing...\n",
      "Test stopped\n"
     ]
    }
   ],
   "source": [
    "import RPi.GPIO as GPIO\n",
    "import time\n",
    "\n",
    "GPIO.setmode(GPIO.BCM)\n",
    "GPIO.setwarnings(False)\n",
    "\n",
    "PIN_OBSTACLE_LEFT_SENSOR = 12\n",
    "PIN_OBSTACLE_RIGHT_SENSOR = 17\n",
    "\n",
    "# TODO: Define the LED pins for output\n",
    "# PIN_LED_RED   = 22\n",
    "# PIN_LED_GREEN = 27\n",
    "\n",
    "try:\n",
    "    GPIO.setup(PIN_OBSTACLE_LEFT_SENSOR, GPIO.IN)\n",
    "    GPIO.setup(PIN_OBSTACLE_RIGHT_SENSOR, GPIO.IN)\n",
    "\n",
    "    # TODO: Set up the LED pins for output\n",
    "    # GPIO.setup for PIN_LED_RED\n",
    "    # GPIO.setup for PIN_LED_GREEN\n",
    "\n",
    "    while True:\n",
    "        is_left_clear = GPIO.input(PIN_OBSTACLE_LEFT_SENSOR)\n",
    "        is_right_clear = GPIO.input(PIN_OBSTACLE_RIGHT_SENSOR)\n",
    "\n",
    "        # TODO: write logic that if either is_left_clear or is_right_clear \n",
    "        if is_left_clear and is_right_clear:\n",
    "            pass\n",
    "        else:\n",
    "            pass\n",
    "\n",
    "        print(\"Test ongoing...\", end='\\r', flush=True)\n",
    "        time.sleep(0.25)\n",
    "except KeyboardInterrupt:\n",
    "    pass # do nothing after capturing user's break or ctrl-C action\n",
    "finally:\n",
    "    GPIO.cleanup()\n",
    "\n",
    "print(\"\\nTest stopped\")"
   ]
  },
  {
   "cell_type": "code",
   "execution_count": null,
   "metadata": {},
   "outputs": [],
   "source": []
  }
 ],
 "metadata": {
  "kernelspec": {
   "display_name": "Python 3",
   "language": "python",
   "name": "python3"
  },
  "language_info": {
   "codemirror_mode": {
    "name": "ipython",
    "version": 3
   },
   "file_extension": ".py",
   "mimetype": "text/x-python",
   "name": "python",
   "nbconvert_exporter": "python",
   "pygments_lexer": "ipython3",
   "version": "3.5.3"
  }
 },
 "nbformat": 4,
 "nbformat_minor": 2
}
